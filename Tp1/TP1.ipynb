{
 "cells": [
  {
   "cell_type": "markdown",
   "metadata": {},
   "source": [
    "# Machine Learning\n",
    "## Trabalho Prático I - Classificação binária: Exoplanetas\n",
    "### Nome: Romeu Oliveira\t\t\tMatrícula: 2012422971"
   ]
  },
  {
   "cell_type": "markdown",
   "metadata": {},
   "source": [
    "## Introdução\n",
    "\n",
    "#### O Problema  \n",
    "A sonda _Kepler_ enviada pela NASA coletou informações e obteve um dataset composto por KOIs (Kepler Object of Interest), que são um conjunto de caracteríscas estimadas de corpos celestes. A NASA obtem o conhecimento de quais corpos celestes são ou não um exoplaneta. Neste trabalho prático serão comparados diferentes métodos para resolver o problema de classificação binária que decidirá, a partir de um KOI, se este corpo celeste é ou não um exoplaneta."
   ]
  },
  {
   "cell_type": "markdown",
   "source": [
    "## Resumo dos dados e análise exploratória\n",
    "Primeiramente, vamos visualizar algumas informações sobre o dataset: "
   ],
   "metadata": {
    "collapsed": false,
    "pycharm": {
     "name": "#%% md\n"
    }
   }
  },
  {
   "cell_type": "code",
   "execution_count": 17,
   "outputs": [],
   "source": [
    "import pandas as pd\n",
    "\n",
    "import numpy as np\n",
    "\n",
    "import matplotlib.pyplot as plt\n",
    "\n",
    "from IPython.display import display\n",
    "\n",
    "from sklearn import feature_selection\n",
    "from sklearn import metrics\n",
    "from sklearn.naive_bayes import GaussianNB\n",
    "from sklearn.tree import DecisionTreeClassifier\n",
    "from sklearn.svm import LinearSVC\n",
    "from sklearn.svm import SVC\n",
    "from sklearn.neighbors import KNeighborsClassifier\n",
    "from sklearn.ensemble import RandomForestClassifier\n",
    "from sklearn.ensemble import GradientBoostingClassifier"
   ],
   "metadata": {
    "collapsed": false,
    "pycharm": {
     "name": "#%%\t\n",
     "is_executing": false
    }
   }
  },
  {
   "cell_type": "code",
   "execution_count": 2,
   "metadata": {
    "pycharm": {
     "is_executing": false
    }
   },
   "outputs": [],
   "source": [
    "# Constantes\n",
    "INPUT_FILEPATH = 'koi_data.csv'\n",
    "TARGET = 'koi_disposition'\n",
    "VAL_SIZE = .3\n",
    "N_FEATURES = 40\n"
   ]
  },
  {
   "cell_type": "code",
   "execution_count": 3,
   "outputs": [
    {
     "data": {
      "text/plain": "  kepoi_name koi_disposition  koi_period  koi_impact  koi_duration  koi_depth  \\\n0  K00752.01       CONFIRMED     9.48804       0.146       2.95750      615.8   \n1  K00752.02       CONFIRMED    54.41838       0.586       4.50700      874.8   \n2  K00754.01  FALSE POSITIVE     1.73695       1.276       2.40641     8079.2   \n3  K00755.01       CONFIRMED     2.52559       0.701       1.65450      603.3   \n4  K00114.01  FALSE POSITIVE     7.36179       1.169       5.02200      233.7   \n5  K00757.01       CONFIRMED    16.06865       0.052       3.53470     4914.3   \n6  K00001.01       CONFIRMED     2.47061       0.818       1.74319    14231.0   \n7  K00010.01       CONFIRMED     3.52250       0.631       3.19843     9145.7   \n8  K00112.02       CONFIRMED     3.70921       0.051       2.63020      131.1   \n9  K00742.01  FALSE POSITIVE    11.52145       2.483       3.63990    17984.0   \n\n   koi_ror  koi_srho  koi_prad  koi_sma  ...  koi_fwm_srao  koi_fwm_sdeco  \\\n0  0.02234   3.20796      2.26   0.0853  ...        0.4300         0.9400   \n1  0.02795   3.02368      2.83   0.2734  ...       -0.6300         1.2300   \n2  0.38739   0.22080     33.46   0.0267  ...       -0.1110         0.0020   \n3  0.02406   1.98635      2.75   0.0374  ...       -0.0100         0.2300   \n4  0.18339   0.00485     39.21   0.0820  ...      -13.4500        24.0900   \n5  0.06216   3.66590      5.76   0.1158  ...        0.0330        -0.0440   \n6  0.12387   1.83538     13.04   0.0354  ...       -0.0232         0.1066   \n7  0.09209   0.65374     14.59   0.0473  ...       -0.5515        -0.0597   \n8  0.01042   1.77451      1.16   0.0465  ...        0.3600         0.4500   \n9  1.62536   1.27376    150.51   0.0978  ...        0.0680        -0.0380   \n\n   koi_fwm_prao  koi_fwm_pdeco  koi_dicco_mra  koi_dicco_mdec  koi_dicco_msky  \\\n0      -0.00020       -0.00055         -0.010           0.200           0.200   \n1       0.00066       -0.00105          0.390           0.000           0.390   \n2       0.00302       -0.00142         -0.249           0.147           0.289   \n3       0.00008       -0.00007          0.030          -0.090           0.100   \n4       0.00303       -0.00555         -4.506           7.710           8.930   \n5       0.00026        0.00049          0.041          -0.015           0.044   \n6      -0.00012        0.00078         -0.009          -0.300           0.300   \n7       0.00001        0.00036          0.014          -0.013           0.020   \n8      -0.00005       -0.00005          0.240          -0.150           0.290   \n9       0.00000        0.00010          0.009          -0.009           0.013   \n\n   koi_dikco_mra  koi_dikco_mdec  koi_dikco_msky  \n0          0.080           0.310           0.320  \n1          0.490           0.120           0.500  \n2         -0.257           0.099           0.276  \n3          0.070           0.020           0.070  \n4         -4.537           7.713           8.948  \n5          0.005           0.030           0.031  \n6          0.015          -0.270           0.270  \n7         -0.028           0.176           0.178  \n8          0.160          -0.130           0.210  \n9          0.147           0.037           0.151  \n\n[10 rows x 43 columns]",
      "text/html": "<div>\n<style scoped>\n    .dataframe tbody tr th:only-of-type {\n        vertical-align: middle;\n    }\n\n    .dataframe tbody tr th {\n        vertical-align: top;\n    }\n\n    .dataframe thead th {\n        text-align: right;\n    }\n</style>\n<table border=\"1\" class=\"dataframe\">\n  <thead>\n    <tr style=\"text-align: right;\">\n      <th></th>\n      <th>kepoi_name</th>\n      <th>koi_disposition</th>\n      <th>koi_period</th>\n      <th>koi_impact</th>\n      <th>koi_duration</th>\n      <th>koi_depth</th>\n      <th>koi_ror</th>\n      <th>koi_srho</th>\n      <th>koi_prad</th>\n      <th>koi_sma</th>\n      <th>...</th>\n      <th>koi_fwm_srao</th>\n      <th>koi_fwm_sdeco</th>\n      <th>koi_fwm_prao</th>\n      <th>koi_fwm_pdeco</th>\n      <th>koi_dicco_mra</th>\n      <th>koi_dicco_mdec</th>\n      <th>koi_dicco_msky</th>\n      <th>koi_dikco_mra</th>\n      <th>koi_dikco_mdec</th>\n      <th>koi_dikco_msky</th>\n    </tr>\n  </thead>\n  <tbody>\n    <tr>\n      <th>0</th>\n      <td>K00752.01</td>\n      <td>CONFIRMED</td>\n      <td>9.48804</td>\n      <td>0.146</td>\n      <td>2.95750</td>\n      <td>615.8</td>\n      <td>0.02234</td>\n      <td>3.20796</td>\n      <td>2.26</td>\n      <td>0.0853</td>\n      <td>...</td>\n      <td>0.4300</td>\n      <td>0.9400</td>\n      <td>-0.00020</td>\n      <td>-0.00055</td>\n      <td>-0.010</td>\n      <td>0.200</td>\n      <td>0.200</td>\n      <td>0.080</td>\n      <td>0.310</td>\n      <td>0.320</td>\n    </tr>\n    <tr>\n      <th>1</th>\n      <td>K00752.02</td>\n      <td>CONFIRMED</td>\n      <td>54.41838</td>\n      <td>0.586</td>\n      <td>4.50700</td>\n      <td>874.8</td>\n      <td>0.02795</td>\n      <td>3.02368</td>\n      <td>2.83</td>\n      <td>0.2734</td>\n      <td>...</td>\n      <td>-0.6300</td>\n      <td>1.2300</td>\n      <td>0.00066</td>\n      <td>-0.00105</td>\n      <td>0.390</td>\n      <td>0.000</td>\n      <td>0.390</td>\n      <td>0.490</td>\n      <td>0.120</td>\n      <td>0.500</td>\n    </tr>\n    <tr>\n      <th>2</th>\n      <td>K00754.01</td>\n      <td>FALSE POSITIVE</td>\n      <td>1.73695</td>\n      <td>1.276</td>\n      <td>2.40641</td>\n      <td>8079.2</td>\n      <td>0.38739</td>\n      <td>0.22080</td>\n      <td>33.46</td>\n      <td>0.0267</td>\n      <td>...</td>\n      <td>-0.1110</td>\n      <td>0.0020</td>\n      <td>0.00302</td>\n      <td>-0.00142</td>\n      <td>-0.249</td>\n      <td>0.147</td>\n      <td>0.289</td>\n      <td>-0.257</td>\n      <td>0.099</td>\n      <td>0.276</td>\n    </tr>\n    <tr>\n      <th>3</th>\n      <td>K00755.01</td>\n      <td>CONFIRMED</td>\n      <td>2.52559</td>\n      <td>0.701</td>\n      <td>1.65450</td>\n      <td>603.3</td>\n      <td>0.02406</td>\n      <td>1.98635</td>\n      <td>2.75</td>\n      <td>0.0374</td>\n      <td>...</td>\n      <td>-0.0100</td>\n      <td>0.2300</td>\n      <td>0.00008</td>\n      <td>-0.00007</td>\n      <td>0.030</td>\n      <td>-0.090</td>\n      <td>0.100</td>\n      <td>0.070</td>\n      <td>0.020</td>\n      <td>0.070</td>\n    </tr>\n    <tr>\n      <th>4</th>\n      <td>K00114.01</td>\n      <td>FALSE POSITIVE</td>\n      <td>7.36179</td>\n      <td>1.169</td>\n      <td>5.02200</td>\n      <td>233.7</td>\n      <td>0.18339</td>\n      <td>0.00485</td>\n      <td>39.21</td>\n      <td>0.0820</td>\n      <td>...</td>\n      <td>-13.4500</td>\n      <td>24.0900</td>\n      <td>0.00303</td>\n      <td>-0.00555</td>\n      <td>-4.506</td>\n      <td>7.710</td>\n      <td>8.930</td>\n      <td>-4.537</td>\n      <td>7.713</td>\n      <td>8.948</td>\n    </tr>\n    <tr>\n      <th>5</th>\n      <td>K00757.01</td>\n      <td>CONFIRMED</td>\n      <td>16.06865</td>\n      <td>0.052</td>\n      <td>3.53470</td>\n      <td>4914.3</td>\n      <td>0.06216</td>\n      <td>3.66590</td>\n      <td>5.76</td>\n      <td>0.1158</td>\n      <td>...</td>\n      <td>0.0330</td>\n      <td>-0.0440</td>\n      <td>0.00026</td>\n      <td>0.00049</td>\n      <td>0.041</td>\n      <td>-0.015</td>\n      <td>0.044</td>\n      <td>0.005</td>\n      <td>0.030</td>\n      <td>0.031</td>\n    </tr>\n    <tr>\n      <th>6</th>\n      <td>K00001.01</td>\n      <td>CONFIRMED</td>\n      <td>2.47061</td>\n      <td>0.818</td>\n      <td>1.74319</td>\n      <td>14231.0</td>\n      <td>0.12387</td>\n      <td>1.83538</td>\n      <td>13.04</td>\n      <td>0.0354</td>\n      <td>...</td>\n      <td>-0.0232</td>\n      <td>0.1066</td>\n      <td>-0.00012</td>\n      <td>0.00078</td>\n      <td>-0.009</td>\n      <td>-0.300</td>\n      <td>0.300</td>\n      <td>0.015</td>\n      <td>-0.270</td>\n      <td>0.270</td>\n    </tr>\n    <tr>\n      <th>7</th>\n      <td>K00010.01</td>\n      <td>CONFIRMED</td>\n      <td>3.52250</td>\n      <td>0.631</td>\n      <td>3.19843</td>\n      <td>9145.7</td>\n      <td>0.09209</td>\n      <td>0.65374</td>\n      <td>14.59</td>\n      <td>0.0473</td>\n      <td>...</td>\n      <td>-0.5515</td>\n      <td>-0.0597</td>\n      <td>0.00001</td>\n      <td>0.00036</td>\n      <td>0.014</td>\n      <td>-0.013</td>\n      <td>0.020</td>\n      <td>-0.028</td>\n      <td>0.176</td>\n      <td>0.178</td>\n    </tr>\n    <tr>\n      <th>8</th>\n      <td>K00112.02</td>\n      <td>CONFIRMED</td>\n      <td>3.70921</td>\n      <td>0.051</td>\n      <td>2.63020</td>\n      <td>131.1</td>\n      <td>0.01042</td>\n      <td>1.77451</td>\n      <td>1.16</td>\n      <td>0.0465</td>\n      <td>...</td>\n      <td>0.3600</td>\n      <td>0.4500</td>\n      <td>-0.00005</td>\n      <td>-0.00005</td>\n      <td>0.240</td>\n      <td>-0.150</td>\n      <td>0.290</td>\n      <td>0.160</td>\n      <td>-0.130</td>\n      <td>0.210</td>\n    </tr>\n    <tr>\n      <th>9</th>\n      <td>K00742.01</td>\n      <td>FALSE POSITIVE</td>\n      <td>11.52145</td>\n      <td>2.483</td>\n      <td>3.63990</td>\n      <td>17984.0</td>\n      <td>1.62536</td>\n      <td>1.27376</td>\n      <td>150.51</td>\n      <td>0.0978</td>\n      <td>...</td>\n      <td>0.0680</td>\n      <td>-0.0380</td>\n      <td>0.00000</td>\n      <td>0.00010</td>\n      <td>0.009</td>\n      <td>-0.009</td>\n      <td>0.013</td>\n      <td>0.147</td>\n      <td>0.037</td>\n      <td>0.151</td>\n    </tr>\n  </tbody>\n</table>\n<p>10 rows × 43 columns</p>\n</div>"
     },
     "metadata": {},
     "output_type": "display_data"
    },
    {
     "name": "stdout",
     "text": [
      "Linhas:  5202\nColunas:  43\nDados faltando:  0\n"
     ],
     "output_type": "stream"
    }
   ],
   "source": [
    "\n",
    "df = pd.read_csv(INPUT_FILEPATH)\n",
    "display(df.head(10))\n",
    "\n",
    "print('Linhas: ', df.shape[0])\n",
    "print('Colunas: ', df.shape[1])\n",
    "print('Dados faltando: ', df.isnull().sum().sum())\n"
   ],
   "metadata": {
    "collapsed": false,
    "pycharm": {
     "name": "#%%\n",
     "is_executing": false
    }
   }
  },
  {
   "cell_type": "markdown",
   "metadata": {
    "pycharm": {
     "name": "#%% md\n"
    }
   },
   "source": [
    "Como não temos dados faltando não realizaremos tratamento para remover \n",
    "colunas ou linhas que representem incertezas quanto as informações do dataset. \n",
    "\n",
    "### Target e features:\n"
   ]
  },
  {
   "cell_type": "code",
   "execution_count": 4,
   "outputs": [
    {
     "name": "stdout",
     "text": [
      "TARGET:  \tkoi_disposition\n\nFEATURE\t\t     TYPE\n"
     ],
     "output_type": "stream"
    },
    {
     "data": {
      "text/plain": "koi_period          float64\nkoi_impact          float64\nkoi_duration        float64\nkoi_depth           float64\nkoi_ror             float64\nkoi_srho            float64\nkoi_prad            float64\nkoi_sma             float64\nkoi_incl            float64\nkoi_teq             float64\nkoi_insol           float64\nkoi_dor             float64\nkoi_max_sngle_ev    float64\nkoi_max_mult_ev     float64\nkoi_model_snr       float64\nkoi_steff           float64\nkoi_slogg           float64\nkoi_smet            float64\nkoi_srad            float64\nkoi_smass           float64\nkoi_kepmag          float64\nkoi_gmag            float64\nkoi_rmag            float64\nkoi_imag            float64\nkoi_zmag            float64\nkoi_jmag            float64\nkoi_hmag            float64\nkoi_kmag            float64\nkoi_fwm_stat_sig    float64\nkoi_fwm_sra         float64\nkoi_fwm_sdec        float64\nkoi_fwm_srao        float64\nkoi_fwm_sdeco       float64\nkoi_fwm_prao        float64\nkoi_fwm_pdeco       float64\nkoi_dicco_mra       float64\nkoi_dicco_mdec      float64\nkoi_dicco_msky      float64\nkoi_dikco_mra       float64\nkoi_dikco_mdec      float64\nkoi_dikco_msky      float64\ndtype: object"
     },
     "metadata": {},
     "output_type": "display_data"
    }
   ],
   "source": [
    "print('TARGET: ', '\\t' + TARGET)\n",
    "print('\\nFEATURE\\t\\t     TYPE')\n",
    "df_f = df.drop(['kepoi_name', TARGET], axis=1)\n",
    "display(df_f.dtypes)\n"
   ],
   "metadata": {
    "collapsed": false,
    "pycharm": {
     "name": "#%%\n",
     "is_executing": false
    }
   }
  },
  {
   "cell_type": "markdown",
   "source": [
    "Notamos que não existem features categóricas, apenas numéricas.  \n",
    "## Preprocessamento\n",
    "### Normalização\n",
    "Antes de normalizar precisamos verificar se o menor valor para o \n",
    "desvio padrão não é muito próximo de 0: \n"
   ],
   "metadata": {
    "collapsed": false
   }
  },
  {
   "cell_type": "code",
   "source": [
    "assert min(df_f.std()) > 0.0001"
   ],
   "metadata": {
    "collapsed": false,
    "pycharm": {
     "name": "#%% \n",
     "is_executing": false
    }
   },
   "execution_count": 5,
   "outputs": []
  },
  {
   "cell_type": "markdown",
   "source": [
    "E então normalizamos:\n"
   ],
   "metadata": {
    "collapsed": false,
    "pycharm": {
     "name": "#%% md\n"
    }
   }
  },
  {
   "cell_type": "code",
   "execution_count": 6,
   "outputs": [],
   "source": [
    "df_f = (df_f - df_f.mean()) / df_f.std()\n"
   ],
   "metadata": {
    "collapsed": false,
    "pycharm": {
     "name": "#%%\n",
     "is_executing": false
    }
   }
  },
  {
   "cell_type": "markdown",
   "source": [
    "### Separando treino e validação\n"
   ],
   "metadata": {
    "collapsed": false,
    "pycharm": {
     "name": "#%% md\n"
    }
   }
  },
  {
   "cell_type": "code",
   "execution_count": 7,
   "outputs": [],
   "source": [
    "# Seleção de features\n",
    "features = list(df_f.columns)\n",
    "skb = feature_selection.SelectKBest(feature_selection.f_classif, N_FEATURES)\n",
    "skb = skb.fit(df_f, df[TARGET])\n",
    "\n",
    "# Separando treino e validação\n",
    "idx = list(df.index)\n",
    "np.random.shuffle(idx)\n",
    "train_idx = idx[int(VAL_SIZE*len(idx)):]\n",
    "val_idx = idx[:int(VAL_SIZE*len(idx))]\n",
    "x_train = skb.transform(df.loc[train_idx, features])\n",
    "x_val = skb.transform(df.loc[val_idx, features])\n",
    "y_train = df.loc[train_idx, TARGET]\n",
    "y_val = df.loc[val_idx, TARGET]\n"
   ],
   "metadata": {
    "collapsed": false,
    "pycharm": {
     "name": "#%%\n",
     "is_executing": false
    }
   }
  },
  {
   "cell_type": "markdown",
   "source": [
    "## Classificação\n"
   ],
   "metadata": {
    "collapsed": false,
    "pycharm": {
     "name": "#%% md\n"
    }
   }
  },
  {
   "cell_type": "code",
   "execution_count": 8,
   "outputs": [],
   "source": [
    "def printAcc(tr, val):\n",
    "\tprint('Acuracia no treino: ',round(tr, 3), '\\nAcuracia na validação: ', round(val, 3))\n",
    "\n",
    "def plot(x, title, model, x_label):\n",
    "\tfig, ax = plt.subplots()\n",
    "\tplt.xlabel(x_label, fontsize=16)\n",
    "\tplt.ylabel('Accuracy', fontsize=16)\n",
    "\tl1 = plt.plot(x,model(x)[0], label='Training')\n",
    "\tl2 = plt.plot(x,model(x)[1], label='Validation')\n",
    "\tif title == 'Decision Tree':\n",
    "\t\tplt.scatter(0, decision_tree()[0], label='Training_inf')\n",
    "\t\tplt.scatter(0, decision_tree()[1], label='Validation_inf')\n",
    "\t\tax.annotate(decision_tree()[0], (0, decision_tree()[0]))\n",
    "\t\tax.annotate(round(decision_tree()[1], 3), (0, decision_tree()[1]))\n",
    "\tplt.setp(l1, linewidth=1, color='b', linestyle='-')\n",
    "\tplt.setp(l2, linewidth=1, color='g', linestyle='-')\n",
    "\tfig.suptitle(title, fontsize=20)\n",
    "\tplt.legend()\n",
    "\tplt.draw()\n",
    "\n",
    "def plot_roc(roc_data):\n",
    "\tplt.figure(figsize=(7, 7))\n",
    "\tlw = 2\n",
    "\t\n",
    "\tplt.plot(roc_data[0], roc_data[1], lw=2)\n",
    "\tplt.plot([0, 1], [0, 1], color='Black', lw=2, ls='--')\n",
    "\tplt.xlim([0.0, 1.0])\n",
    "\tplt.ylim([0.0, 1.05])\n",
    "\tplt.xlabel('FALSE POSITIVE')\n",
    "\tplt.ylabel('CONFIRMED')\n",
    "\tplt.title('ROC Curve')\n",
    "\tplt.show()\n"
   ],
   "metadata": {
    "collapsed": false,
    "pycharm": {
     "name": "#%%\n",
     "is_executing": false
    }
   }
  },
  {
   "cell_type": "markdown",
   "source": [
    "### Gaussian Naive Bayes\n"
   ],
   "metadata": {
    "collapsed": false,
    "pycharm": {
     "name": "#%% md\n"
    }
   }
  },
  {
   "cell_type": "code",
   "execution_count": 35,
   "outputs": [
    {
     "name": "stdout",
     "text": [
      "Acuracia no treino:  0.81 \nAcuracia na validação:  0.801\nMétricas de precisão e revogação:\n\n                precision    recall  f1-score   support\n\n     CONFIRMED       0.68      0.97      0.80       641\nFALSE POSITIVE       0.97      0.68      0.80       919\n\n     micro avg       0.80      0.80      0.80      1560\n     macro avg       0.83      0.83      0.80      1560\n  weighted avg       0.85      0.80      0.80      1560\n\n"
     ],
     "output_type": "stream"
    }
   ],
   "source": [
    "def g_naive_bayes():\n",
    "\tgnb = GaussianNB().fit(X=x_train, y=y_train)\n",
    "\ttr_acc = gnb.score(x_train, y_train)\n",
    "\tval_acc = gnb.score(x_val, y_val)\n",
    "\ty_pred = gnb.predict(x_val)\n",
    "\t# print([value for value in y_val if value != 'CONFIRMED' and value !='FALSE POSITIVE'])\n",
    "\t# print([value for value in y_pred if value != 'CONFIRMED' and value !='FALSE POSITIVE'])\n",
    "\ty_prob = gnb.predict_proba(x_val)[:, 1]\n",
    "\tclasses = ['FALSE POSITIVE', 'CONFIRMED']\n",
    "\tprintAcc(tr_acc, val_acc)\n",
    "\tprint('Métricas de precisão e revogação:\\n')\n",
    "\tprint(metrics.classification_report(y_val, y_pred))\n",
    "g_naive_bayes()\n"
   ],
   "metadata": {
    "collapsed": false,
    "pycharm": {
     "name": "#%%\n",
     "is_executing": false
    }
   }
  },
  {
   "cell_type": "markdown",
   "source": [
    "### Decision Tree\n"
   ],
   "metadata": {
    "collapsed": false,
    "pycharm": {
     "name": "#%% md\n"
    }
   }
  },
  {
   "cell_type": "code",
   "execution_count": 10,
   "outputs": [],
   "source": [
    "@np.vectorize\n",
    "def decision_tree(height=None):\n",
    "\tdt = DecisionTreeClassifier(max_depth=height).fit(X=x_train, y=y_train)\n",
    "\ttr_acc = dt.score(x_train, y_train)\n",
    "\tval_acc = dt.score(x_val, y_val)\n",
    "\t# printAcc(tr_acc, val_acc)\n",
    "\treturn tr_acc, val_acc\n",
    "\n",
    "# h = np.arange(1, 25, 1)\n",
    "# plot(x=h, title='Decision Tree', x_label='Height', model=decision_tree)\n"
   ],
   "metadata": {
    "collapsed": false,
    "pycharm": {
     "name": "#%%\n",
     "is_executing": false
    }
   }
  },
  {
   "cell_type": "markdown",
   "source": [
    "### SVM\n"
   ],
   "metadata": {
    "collapsed": false,
    "pycharm": {
     "name": "#%% md\n"
    }
   }
  },
  {
   "cell_type": "code",
   "execution_count": 11,
   "outputs": [],
   "source": [
    "def svm(kernel):\n",
    "\t# Aqui, como sugere a documentação setamos o parametro dual = False\n",
    "\t# para resolver o problema primal, pois o número de samples > número de features\n",
    "\tsvc = LinearSVC(dual=False).fit(X=x_train, y=y_train)\n",
    "\tif kernel != 'linear':\n",
    "\t\tsvc = SVC(C=.1, gamma='scale', kernel=kernel).fit(X=x_train, y=y_train)\n",
    "\ttr_acc = svc.score(x_train, y_train)\n",
    "\tval_acc = svc.score(x_val, y_val)\n",
    "\tprintAcc(tr_acc, val_acc)\n"
   ],
   "metadata": {
    "collapsed": false,
    "pycharm": {
     "name": "#%%\n",
     "is_executing": false
    }
   }
  },
  {
   "cell_type": "markdown",
   "source": [
    "#### Linear\n"
   ],
   "metadata": {
    "collapsed": false
   }
  },
  {
   "cell_type": "code",
   "execution_count": 29,
   "outputs": [
    {
     "name": "stdout",
     "text": [
      "Acuracia no treino:  0.934 \nAcuracia na validação:  0.928\n"
     ],
     "output_type": "stream"
    }
   ],
   "source": [
    "svm('linear')\n"
   ],
   "metadata": {
    "collapsed": false,
    "pycharm": {
     "name": "#%%\n",
     "is_executing": false
    }
   }
  },
  {
   "cell_type": "markdown",
   "source": [
    "#### Sigmoid\n"
   ],
   "metadata": {
    "collapsed": false,
    "pycharm": {
     "name": "#%% md\n"
    }
   }
  },
  {
   "cell_type": "code",
   "execution_count": 43,
   "outputs": [
    {
     "name": "stdout",
     "text": [
      "Acuracia no treino:  0.616 \nAcuracia na validação:  0.601\n"
     ],
     "output_type": "stream"
    }
   ],
   "source": [
    "svm('sigmoid')\n"
   ],
   "metadata": {
    "collapsed": false,
    "pycharm": {
     "name": "#%%\n",
     "is_executing": false
    }
   }
  },
  {
   "cell_type": "markdown",
   "source": [
    "#### Polynomial\n"
   ],
   "metadata": {
    "collapsed": false,
    "pycharm": {
     "name": "#%% md\n"
    }
   }
  },
  {
   "cell_type": "code",
   "execution_count": 44,
   "outputs": [
    {
     "name": "stdout",
     "text": [
      "Acuracia no treino:  0.596 \nAcuracia na validação:  0.596\n"
     ],
     "output_type": "stream"
    }
   ],
   "source": [
    "svm('poly')\n"
   ],
   "metadata": {
    "collapsed": false,
    "pycharm": {
     "name": "#%%\n",
     "is_executing": false
    }
   }
  },
  {
   "cell_type": "markdown",
   "source": [
    "#### RBF\n"
   ],
   "metadata": {
    "collapsed": false
   }
  },
  {
   "cell_type": "code",
   "execution_count": 45,
   "outputs": [
    {
     "name": "stdout",
     "text": [
      "Acuracia no treino:  0.596 \nAcuracia na validação:  0.596\n"
     ],
     "output_type": "stream"
    }
   ],
   "source": [
    "svm('rbf')\n"
   ],
   "metadata": {
    "collapsed": false,
    "pycharm": {
     "name": "#%%\n",
     "is_executing": false
    }
   }
  },
  {
   "cell_type": "markdown",
   "source": [
    "### K-NN\n"
   ],
   "metadata": {
    "collapsed": false,
    "pycharm": {
     "name": "#%% md\n"
    }
   }
  },
  {
   "cell_type": "code",
   "execution_count": 12,
   "outputs": [],
   "source": [
    "@np.vectorize\n",
    "def knn(k):\n",
    "\tknn = KNeighborsClassifier(n_neighbors=k).fit(X=x_train, y=y_train)\n",
    "\ttr_acc = knn.score(x_train, y_train)\n",
    "\tval_acc = knn.score(x_val, y_val)\n",
    "\t# printAcc(tr_acc, val_acc)\n",
    "\treturn tr_acc, val_acc\n",
    "\n",
    "# neighbors = np.arange(1, 25, 1)\n",
    "# plot(x=neighbors, title='K-NN', x_label='Neighbors', model=knn)\n"
   ],
   "metadata": {
    "collapsed": false,
    "pycharm": {
     "name": "#%%\n",
     "is_executing": false
    }
   }
  },
  {
   "cell_type": "markdown",
   "source": [
    "### Random Forest\n"
   ],
   "metadata": {
    "collapsed": false,
    "pycharm": {
     "name": "#%% md\n"
    }
   }
  },
  {
   "cell_type": "code",
   "execution_count": 13,
   "outputs": [
    {
     "data": {
      "text/plain": "<Figure size 432x288 with 1 Axes>",
      "image/png": "[encoded data removed]"
     },
     "metadata": {
      "needs_background": "light"
     },
     "output_type": "display_data"
    }
   ],
   "source": [
    "@np.vectorize\n",
    "def random_forest(N):\n",
    "\trf = RandomForestClassifier(n_estimators=N, max_depth=10).fit(X=x_train, y=y_train)\n",
    "\ttr_acc = rf.score(x_train, y_train)\n",
    "\tval_acc = rf.score(x_val, y_val)\n",
    "\t# printAcc(tr_acc, val_acc)\n",
    "\treturn tr_acc, val_acc\n",
    "\n",
    "N = np.arange(1, 300, 15)\n",
    "plot(x=N, title='Random Forest', x_label='Number of trees', model=random_forest)\n"
   ],
   "metadata": {
    "collapsed": false,
    "pycharm": {
     "name": "#%%\n",
     "is_executing": false
    }
   }
  },
  {
   "cell_type": "markdown",
   "source": [
    "### Gradient Tree Boosting\n"
   ],
   "metadata": {
    "collapsed": false,
    "pycharm": {
     "name": "#%% md\n"
    }
   }
  },
  {
   "cell_type": "code",
   "execution_count": 16,
   "outputs": [
    {
     "data": {
      "text/plain": "<Figure size 432x288 with 1 Axes>",
      "image/png": "[encoded data removed]"
     },
     "metadata": {
      "needs_background": "light"
     },
     "output_type": "display_data"
    }
   ],
   "source": [
    "@np.vectorize\n",
    "def gt_boosting(n):\n",
    "\tgtb = GradientBoostingClassifier(n_iter_no_change=n).fit(X=x_train, y=y_train)\n",
    "\ttr_acc = gtb.score(x_train, y_train)\n",
    "\tval_acc = gtb.score(x_val, y_val)\n",
    "\t# printAcc(tr_acc, val_acc)\n",
    "\treturn tr_acc, val_acc\n",
    "\n",
    "N = np.arange(1, 31, 1)\n",
    "plot(x=N, title='Gradient Tree Boosting', x_label='Number of Iterations', model=gt_boosting)\n"
   ],
   "metadata": {
    "collapsed": false,
    "pycharm": {
     "name": "#%%\n",
     "is_executing": false
    }
   }
  }
 ],
 "metadata": {
  "kernelspec": {
   "name": "pycharm-dbeb32df",
   "language": "python",
   "display_name": "PyCharm (data)"
  },
  "language_info": {
   "codemirror_mode": {
    "name": "ipython",
    "version": 3
   },
   "file_extension": ".py",
   "mimetype": "text/x-python",
   "name": "python",
   "nbconvert_exporter": "python",
   "pygments_lexer": "ipython3",
   "version": "3.6.7"
  },
  "pycharm": {
   "stem_cell": {
    "cell_type": "raw",
    "source": [],
    "metadata": {
     "collapsed": false
    }
   }
  }
 },
 "nbformat": 4,
 "nbformat_minor": 2
}